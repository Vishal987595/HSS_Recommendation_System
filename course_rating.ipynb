{
 "cells": [
  {
   "cell_type": "code",
   "execution_count": 33,
   "id": "a2ea21e0",
   "metadata": {},
   "outputs": [],
   "source": [
    "import pandas as pd\n",
    "import numpy as np\n",
    "import matplotlib.pyplot as plt\n",
    "# import plotly.express as px"
   ]
  },
  {
   "cell_type": "code",
   "execution_count": 34,
   "id": "61880383",
   "metadata": {},
   "outputs": [
    {
     "data": {
      "text/html": [
       "<div>\n",
       "<style scoped>\n",
       "    .dataframe tbody tr th:only-of-type {\n",
       "        vertical-align: middle;\n",
       "    }\n",
       "\n",
       "    .dataframe tbody tr th {\n",
       "        vertical-align: top;\n",
       "    }\n",
       "\n",
       "    .dataframe thead th {\n",
       "        text-align: right;\n",
       "    }\n",
       "</style>\n",
       "<table border=\"1\" class=\"dataframe\">\n",
       "  <thead>\n",
       "    <tr style=\"text-align: right;\">\n",
       "      <th></th>\n",
       "      <th>Timestamp</th>\n",
       "      <th>Email Address</th>\n",
       "      <th>Roll No</th>\n",
       "      <th>Semester</th>\n",
       "      <th>Unnamed: 4</th>\n",
       "      <th>Select Course</th>\n",
       "      <th>Select Course.1</th>\n",
       "      <th>Select Course.2</th>\n",
       "      <th>Select Course.3</th>\n",
       "      <th>How Interesting was the course content?</th>\n",
       "      <th>Rate the Instructor</th>\n",
       "      <th>Rate the course difficulty</th>\n",
       "      <th>Did you get marks as per your expectation?</th>\n",
       "      <th>Any Feedback or Suggestions?</th>\n",
       "    </tr>\n",
       "  </thead>\n",
       "  <tbody>\n",
       "    <tr>\n",
       "      <th>0</th>\n",
       "      <td>4/12/2023 12:23:53</td>\n",
       "      <td>NaN</td>\n",
       "      <td>18000011</td>\n",
       "      <td>Sem II 2020-2021</td>\n",
       "      <td>Urdu Script and Poetry</td>\n",
       "      <td>NaN</td>\n",
       "      <td>NaN</td>\n",
       "      <td>Urdu Script and Poetry</td>\n",
       "      <td>NaN</td>\n",
       "      <td>0</td>\n",
       "      <td>0</td>\n",
       "      <td>0</td>\n",
       "      <td>1</td>\n",
       "      <td>Ugh!</td>\n",
       "    </tr>\n",
       "    <tr>\n",
       "      <th>1</th>\n",
       "      <td>4/12/2023 11:37:17</td>\n",
       "      <td>NaN</td>\n",
       "      <td>21250015</td>\n",
       "      <td>Sem II 2021- 2022</td>\n",
       "      <td>The Politics Of The Environment</td>\n",
       "      <td>The Politics Of The Environment</td>\n",
       "      <td>NaN</td>\n",
       "      <td>NaN</td>\n",
       "      <td>NaN</td>\n",
       "      <td>3</td>\n",
       "      <td>4</td>\n",
       "      <td>0</td>\n",
       "      <td>2</td>\n",
       "      <td>NaN</td>\n",
       "    </tr>\n",
       "    <tr>\n",
       "      <th>2</th>\n",
       "      <td>4/12/2023 11:37:56</td>\n",
       "      <td>NaN</td>\n",
       "      <td>19110081</td>\n",
       "      <td>Sem II 2021- 2022</td>\n",
       "      <td>Harappan Civilization</td>\n",
       "      <td>Harappan Civilization</td>\n",
       "      <td>NaN</td>\n",
       "      <td>NaN</td>\n",
       "      <td>NaN</td>\n",
       "      <td>4</td>\n",
       "      <td>5</td>\n",
       "      <td>0</td>\n",
       "      <td>4</td>\n",
       "      <td>NaN</td>\n",
       "    </tr>\n",
       "    <tr>\n",
       "      <th>3</th>\n",
       "      <td>4/12/2023 11:33:55</td>\n",
       "      <td>NaN</td>\n",
       "      <td>21310014</td>\n",
       "      <td>Sem II 2021- 2022</td>\n",
       "      <td>Creative Writing in Practice</td>\n",
       "      <td>Creative Writing in Practice</td>\n",
       "      <td>NaN</td>\n",
       "      <td>NaN</td>\n",
       "      <td>NaN</td>\n",
       "      <td>5</td>\n",
       "      <td>5</td>\n",
       "      <td>0</td>\n",
       "      <td>4</td>\n",
       "      <td>NaN</td>\n",
       "    </tr>\n",
       "    <tr>\n",
       "      <th>4</th>\n",
       "      <td>4/12/2023 11:40:37</td>\n",
       "      <td>NaN</td>\n",
       "      <td>19110081</td>\n",
       "      <td>Sem I 2021-2022</td>\n",
       "      <td>Special topics in Management: Marketing Analytics</td>\n",
       "      <td>NaN</td>\n",
       "      <td>Special topics in Management: Marketing Analytics</td>\n",
       "      <td>NaN</td>\n",
       "      <td>NaN</td>\n",
       "      <td>5</td>\n",
       "      <td>5</td>\n",
       "      <td>0</td>\n",
       "      <td>5</td>\n",
       "      <td>NaN</td>\n",
       "    </tr>\n",
       "    <tr>\n",
       "      <th>...</th>\n",
       "      <td>...</td>\n",
       "      <td>...</td>\n",
       "      <td>...</td>\n",
       "      <td>...</td>\n",
       "      <td>...</td>\n",
       "      <td>...</td>\n",
       "      <td>...</td>\n",
       "      <td>...</td>\n",
       "      <td>...</td>\n",
       "      <td>...</td>\n",
       "      <td>...</td>\n",
       "      <td>...</td>\n",
       "      <td>...</td>\n",
       "      <td>...</td>\n",
       "    </tr>\n",
       "    <tr>\n",
       "      <th>82</th>\n",
       "      <td>4/13/2023 3:58:20</td>\n",
       "      <td>NaN</td>\n",
       "      <td>21210026</td>\n",
       "      <td>Sem I 2022- 2023</td>\n",
       "      <td>Development Economics</td>\n",
       "      <td>NaN</td>\n",
       "      <td>NaN</td>\n",
       "      <td>NaN</td>\n",
       "      <td>Development Economics</td>\n",
       "      <td>5</td>\n",
       "      <td>5</td>\n",
       "      <td>4</td>\n",
       "      <td>5</td>\n",
       "      <td>NaN</td>\n",
       "    </tr>\n",
       "    <tr>\n",
       "      <th>83</th>\n",
       "      <td>4/13/2023 13:27:22</td>\n",
       "      <td>NaN</td>\n",
       "      <td>17110031</td>\n",
       "      <td>Sem II 2020-2021</td>\n",
       "      <td>Principles of Business Management</td>\n",
       "      <td>NaN</td>\n",
       "      <td>NaN</td>\n",
       "      <td>Principles of Business Management</td>\n",
       "      <td>NaN</td>\n",
       "      <td>5</td>\n",
       "      <td>4</td>\n",
       "      <td>4</td>\n",
       "      <td>5</td>\n",
       "      <td>The course content was good even being online ...</td>\n",
       "    </tr>\n",
       "    <tr>\n",
       "      <th>84</th>\n",
       "      <td>4/12/2023 12:10:07</td>\n",
       "      <td>NaN</td>\n",
       "      <td>21510018</td>\n",
       "      <td>Sem II 2021- 2022</td>\n",
       "      <td>Perspectives In History</td>\n",
       "      <td>Perspectives In History</td>\n",
       "      <td>NaN</td>\n",
       "      <td>NaN</td>\n",
       "      <td>NaN</td>\n",
       "      <td>5</td>\n",
       "      <td>4</td>\n",
       "      <td>5</td>\n",
       "      <td>3</td>\n",
       "      <td>I was very interested in the course, if you ar...</td>\n",
       "    </tr>\n",
       "    <tr>\n",
       "      <th>85</th>\n",
       "      <td>4/12/2023 11:42:26</td>\n",
       "      <td>NaN</td>\n",
       "      <td>20310026</td>\n",
       "      <td>Sem II 2020-2021</td>\n",
       "      <td>Structures and Hydrology in Ancient India</td>\n",
       "      <td>NaN</td>\n",
       "      <td>NaN</td>\n",
       "      <td>Structures and Hydrology in Ancient India</td>\n",
       "      <td>NaN</td>\n",
       "      <td>5</td>\n",
       "      <td>5</td>\n",
       "      <td>5</td>\n",
       "      <td>4</td>\n",
       "      <td>NaN</td>\n",
       "    </tr>\n",
       "    <tr>\n",
       "      <th>86</th>\n",
       "      <td>4/12/2023 11:57:24</td>\n",
       "      <td>NaN</td>\n",
       "      <td>21250021</td>\n",
       "      <td>Sem I 2021-2022</td>\n",
       "      <td>Sanskrit Literature</td>\n",
       "      <td>NaN</td>\n",
       "      <td>Sanskrit Literature</td>\n",
       "      <td>NaN</td>\n",
       "      <td>NaN</td>\n",
       "      <td>5</td>\n",
       "      <td>5</td>\n",
       "      <td>5</td>\n",
       "      <td>5</td>\n",
       "      <td>NaN</td>\n",
       "    </tr>\n",
       "  </tbody>\n",
       "</table>\n",
       "<p>87 rows × 14 columns</p>\n",
       "</div>"
      ],
      "text/plain": [
       "             Timestamp Email Address   Roll No           Semester  \\\n",
       "0   4/12/2023 12:23:53           NaN  18000011   Sem II 2020-2021   \n",
       "1   4/12/2023 11:37:17           NaN  21250015  Sem II 2021- 2022   \n",
       "2   4/12/2023 11:37:56           NaN  19110081  Sem II 2021- 2022   \n",
       "3   4/12/2023 11:33:55           NaN  21310014  Sem II 2021- 2022   \n",
       "4   4/12/2023 11:40:37           NaN  19110081    Sem I 2021-2022   \n",
       "..                 ...           ...       ...                ...   \n",
       "82   4/13/2023 3:58:20           NaN  21210026   Sem I 2022- 2023   \n",
       "83  4/13/2023 13:27:22           NaN  17110031   Sem II 2020-2021   \n",
       "84  4/12/2023 12:10:07           NaN  21510018  Sem II 2021- 2022   \n",
       "85  4/12/2023 11:42:26           NaN  20310026   Sem II 2020-2021   \n",
       "86  4/12/2023 11:57:24           NaN  21250021    Sem I 2021-2022   \n",
       "\n",
       "                                           Unnamed: 4  \\\n",
       "0                              Urdu Script and Poetry   \n",
       "1                     The Politics Of The Environment   \n",
       "2                               Harappan Civilization   \n",
       "3                        Creative Writing in Practice   \n",
       "4   Special topics in Management: Marketing Analytics   \n",
       "..                                                ...   \n",
       "82                              Development Economics   \n",
       "83                  Principles of Business Management   \n",
       "84                            Perspectives In History   \n",
       "85          Structures and Hydrology in Ancient India   \n",
       "86                                Sanskrit Literature   \n",
       "\n",
       "                      Select Course  \\\n",
       "0                               NaN   \n",
       "1   The Politics Of The Environment   \n",
       "2             Harappan Civilization   \n",
       "3      Creative Writing in Practice   \n",
       "4                               NaN   \n",
       "..                              ...   \n",
       "82                              NaN   \n",
       "83                              NaN   \n",
       "84          Perspectives In History   \n",
       "85                              NaN   \n",
       "86                              NaN   \n",
       "\n",
       "                                      Select Course.1  \\\n",
       "0                                                 NaN   \n",
       "1                                                 NaN   \n",
       "2                                                 NaN   \n",
       "3                                                 NaN   \n",
       "4   Special topics in Management: Marketing Analytics   \n",
       "..                                                ...   \n",
       "82                                                NaN   \n",
       "83                                                NaN   \n",
       "84                                                NaN   \n",
       "85                                                NaN   \n",
       "86                                Sanskrit Literature   \n",
       "\n",
       "                              Select Course.2        Select Course.3  \\\n",
       "0                      Urdu Script and Poetry                    NaN   \n",
       "1                                         NaN                    NaN   \n",
       "2                                         NaN                    NaN   \n",
       "3                                         NaN                    NaN   \n",
       "4                                         NaN                    NaN   \n",
       "..                                        ...                    ...   \n",
       "82                                        NaN  Development Economics   \n",
       "83          Principles of Business Management                    NaN   \n",
       "84                                        NaN                    NaN   \n",
       "85  Structures and Hydrology in Ancient India                    NaN   \n",
       "86                                        NaN                    NaN   \n",
       "\n",
       "    How Interesting was the course content?  Rate the Instructor   \\\n",
       "0                                         0                     0   \n",
       "1                                         3                     4   \n",
       "2                                         4                     5   \n",
       "3                                         5                     5   \n",
       "4                                         5                     5   \n",
       "..                                      ...                   ...   \n",
       "82                                        5                     5   \n",
       "83                                        5                     4   \n",
       "84                                        5                     4   \n",
       "85                                        5                     5   \n",
       "86                                        5                     5   \n",
       "\n",
       "    Rate the course difficulty  Did you get marks as per your expectation?  \\\n",
       "0                            0                                           1   \n",
       "1                            0                                           2   \n",
       "2                            0                                           4   \n",
       "3                            0                                           4   \n",
       "4                            0                                           5   \n",
       "..                         ...                                         ...   \n",
       "82                           4                                           5   \n",
       "83                           4                                           5   \n",
       "84                           5                                           3   \n",
       "85                           5                                           4   \n",
       "86                           5                                           5   \n",
       "\n",
       "                         Any Feedback or Suggestions?  \n",
       "0                                                Ugh!  \n",
       "1                                                 NaN  \n",
       "2                                                 NaN  \n",
       "3                                                 NaN  \n",
       "4                                                 NaN  \n",
       "..                                                ...  \n",
       "82                                                NaN  \n",
       "83  The course content was good even being online ...  \n",
       "84  I was very interested in the course, if you ar...  \n",
       "85                                                NaN  \n",
       "86                                                NaN  \n",
       "\n",
       "[87 rows x 14 columns]"
      ]
     },
     "execution_count": 34,
     "metadata": {},
     "output_type": "execute_result"
    }
   ],
   "source": [
    "df = pd.read_csv(\"./responses.csv\")\n",
    "df"
   ]
  },
  {
   "cell_type": "code",
   "execution_count": 35,
   "id": "e21391cd",
   "metadata": {},
   "outputs": [
    {
     "data": {
      "text/plain": [
       "Index(['Timestamp', 'Email Address', 'Roll No', 'Semester', 'Unnamed: 4',\n",
       "       'Select Course', 'Select Course.1', 'Select Course.2',\n",
       "       'Select Course.3', 'How Interesting was the course content?',\n",
       "       'Rate the Instructor ', 'Rate the course difficulty',\n",
       "       'Did you get marks as per your expectation?',\n",
       "       'Any Feedback or Suggestions?'],\n",
       "      dtype='object')"
      ]
     },
     "execution_count": 35,
     "metadata": {},
     "output_type": "execute_result"
    }
   ],
   "source": [
    "df.columns"
   ]
  },
  {
   "cell_type": "code",
   "execution_count": 36,
   "id": "08c39792",
   "metadata": {},
   "outputs": [
    {
     "data": {
      "image/png": "[encoded data removed]",
      "text/plain": [
       "<Figure size 640x480 with 1 Axes>"
      ]
     },
     "metadata": {},
     "output_type": "display_data"
    }
   ],
   "source": [
    "plt.scatter(df['How Interesting was the course content?'], df['Rate the Instructor '])\n",
    "plt.title('instructor v/s course content')\n",
    "plt.show()"
   ]
  },
  {
   "cell_type": "code",
   "execution_count": 37,
   "id": "f6759d0c",
   "metadata": {},
   "outputs": [
    {
     "data": {
      "image/png": "[encoded data removed]",
      "text/plain": [
       "<Figure size 640x480 with 1 Axes>"
      ]
     },
     "metadata": {},
     "output_type": "display_data"
    }
   ],
   "source": [
    "plt.scatter(df['How Interesting was the course content?'], df['Rate the course difficulty'])\n",
    "plt.title('difficulty v/s course content')\n",
    "plt.show()"
   ]
  },
  {
   "cell_type": "code",
   "execution_count": 38,
   "id": "546c5447",
   "metadata": {},
   "outputs": [
    {
     "data": {
      "image/png": "[encoded data removed]",
      "text/plain": [
       "<Figure size 640x480 with 1 Axes>"
      ]
     },
     "metadata": {},
     "output_type": "display_data"
    }
   ],
   "source": [
    "plt.scatter(df['How Interesting was the course content?'], df['Did you get marks as per your expectation?'])\n",
    "plt.title('grade expectation v/s course content')\n",
    "plt.show()"
   ]
  },
  {
   "cell_type": "code",
   "execution_count": 39,
   "id": "6a5a38ef",
   "metadata": {},
   "outputs": [
    {
     "data": {
      "image/png": "[encoded data removed]",
      "text/plain": [
       "<Figure size 640x480 with 1 Axes>"
      ]
     },
     "metadata": {},
     "output_type": "display_data"
    }
   ],
   "source": [
    "plt.scatter(df['Rate the Instructor '], df['Rate the course difficulty'])\n",
    "plt.title('course difficulty v/s instructor')\n",
    "plt.show()"
   ]
  },
  {
   "cell_type": "code",
   "execution_count": 40,
   "id": "59ab938f",
   "metadata": {},
   "outputs": [
    {
     "data": {
      "image/png": "[encoded data removed]",
      "text/plain": [
       "<Figure size 640x480 with 1 Axes>"
      ]
     },
     "metadata": {},
     "output_type": "display_data"
    }
   ],
   "source": [
    "plt.scatter(df['Rate the Instructor '], df['Did you get marks as per your expectation?'])\n",
    "plt.title('grade expectation v/s instructor')\n",
    "plt.show()"
   ]
  },
  {
   "cell_type": "code",
   "execution_count": 41,
   "id": "6551b935",
   "metadata": {},
   "outputs": [
    {
     "data": {
      "image/png": "[encoded data removed]",
      "text/plain": [
       "<Figure size 640x480 with 1 Axes>"
      ]
     },
     "metadata": {},
     "output_type": "display_data"
    }
   ],
   "source": [
    "plt.scatter(df['Rate the course difficulty'], df['Did you get marks as per your expectation?'])\n",
    "plt.title('grade expectation v/s course difficulty')\n",
    "plt.show()"
   ]
  },
  {
   "cell_type": "code",
   "execution_count": 42,
   "id": "5f5fe5c8",
   "metadata": {},
   "outputs": [
    {
     "data": {
      "text/html": [
       "<div>\n",
       "<style scoped>\n",
       "    .dataframe tbody tr th:only-of-type {\n",
       "        vertical-align: middle;\n",
       "    }\n",
       "\n",
       "    .dataframe tbody tr th {\n",
       "        vertical-align: top;\n",
       "    }\n",
       "\n",
       "    .dataframe thead th {\n",
       "        text-align: right;\n",
       "    }\n",
       "</style>\n",
       "<table border=\"1\" class=\"dataframe\">\n",
       "  <thead>\n",
       "    <tr style=\"text-align: right;\">\n",
       "      <th></th>\n",
       "      <th>Timestamp</th>\n",
       "      <th>Email Address</th>\n",
       "      <th>Roll No</th>\n",
       "      <th>Semester</th>\n",
       "      <th>Unnamed: 4</th>\n",
       "      <th>Select Course</th>\n",
       "      <th>Select Course.1</th>\n",
       "      <th>Select Course.2</th>\n",
       "      <th>Select Course.3</th>\n",
       "      <th>How Interesting was the course content?</th>\n",
       "      <th>Rate the Instructor</th>\n",
       "      <th>Rate the course difficulty</th>\n",
       "      <th>Did you get marks as per your expectation?</th>\n",
       "      <th>Any Feedback or Suggestions?</th>\n",
       "    </tr>\n",
       "  </thead>\n",
       "  <tbody>\n",
       "    <tr>\n",
       "      <th>0</th>\n",
       "      <td>4/12/2023 12:23:53</td>\n",
       "      <td>NaN</td>\n",
       "      <td>18000011</td>\n",
       "      <td>Sem II 2020-2021</td>\n",
       "      <td>Urdu Script and Poetry</td>\n",
       "      <td>NaN</td>\n",
       "      <td>NaN</td>\n",
       "      <td>Urdu Script and Poetry</td>\n",
       "      <td>NaN</td>\n",
       "      <td>0</td>\n",
       "      <td>0</td>\n",
       "      <td>0</td>\n",
       "      <td>1</td>\n",
       "      <td>Ugh!</td>\n",
       "    </tr>\n",
       "    <tr>\n",
       "      <th>1</th>\n",
       "      <td>4/12/2023 11:37:17</td>\n",
       "      <td>NaN</td>\n",
       "      <td>21250015</td>\n",
       "      <td>Sem II 2021- 2022</td>\n",
       "      <td>The Politics Of The Environment</td>\n",
       "      <td>The Politics Of The Environment</td>\n",
       "      <td>NaN</td>\n",
       "      <td>NaN</td>\n",
       "      <td>NaN</td>\n",
       "      <td>3</td>\n",
       "      <td>4</td>\n",
       "      <td>0</td>\n",
       "      <td>2</td>\n",
       "      <td>NaN</td>\n",
       "    </tr>\n",
       "    <tr>\n",
       "      <th>2</th>\n",
       "      <td>4/12/2023 11:37:56</td>\n",
       "      <td>NaN</td>\n",
       "      <td>19110081</td>\n",
       "      <td>Sem II 2021- 2022</td>\n",
       "      <td>Harappan Civilization</td>\n",
       "      <td>Harappan Civilization</td>\n",
       "      <td>NaN</td>\n",
       "      <td>NaN</td>\n",
       "      <td>NaN</td>\n",
       "      <td>4</td>\n",
       "      <td>5</td>\n",
       "      <td>0</td>\n",
       "      <td>4</td>\n",
       "      <td>NaN</td>\n",
       "    </tr>\n",
       "    <tr>\n",
       "      <th>3</th>\n",
       "      <td>4/12/2023 11:33:55</td>\n",
       "      <td>NaN</td>\n",
       "      <td>21310014</td>\n",
       "      <td>Sem II 2021- 2022</td>\n",
       "      <td>Creative Writing in Practice</td>\n",
       "      <td>Creative Writing in Practice</td>\n",
       "      <td>NaN</td>\n",
       "      <td>NaN</td>\n",
       "      <td>NaN</td>\n",
       "      <td>5</td>\n",
       "      <td>5</td>\n",
       "      <td>0</td>\n",
       "      <td>4</td>\n",
       "      <td>NaN</td>\n",
       "    </tr>\n",
       "    <tr>\n",
       "      <th>4</th>\n",
       "      <td>4/12/2023 11:40:37</td>\n",
       "      <td>NaN</td>\n",
       "      <td>19110081</td>\n",
       "      <td>Sem I 2021-2022</td>\n",
       "      <td>Special topics in Management: Marketing Analytics</td>\n",
       "      <td>NaN</td>\n",
       "      <td>Special topics in Management: Marketing Analytics</td>\n",
       "      <td>NaN</td>\n",
       "      <td>NaN</td>\n",
       "      <td>5</td>\n",
       "      <td>5</td>\n",
       "      <td>0</td>\n",
       "      <td>5</td>\n",
       "      <td>NaN</td>\n",
       "    </tr>\n",
       "    <tr>\n",
       "      <th>...</th>\n",
       "      <td>...</td>\n",
       "      <td>...</td>\n",
       "      <td>...</td>\n",
       "      <td>...</td>\n",
       "      <td>...</td>\n",
       "      <td>...</td>\n",
       "      <td>...</td>\n",
       "      <td>...</td>\n",
       "      <td>...</td>\n",
       "      <td>...</td>\n",
       "      <td>...</td>\n",
       "      <td>...</td>\n",
       "      <td>...</td>\n",
       "      <td>...</td>\n",
       "    </tr>\n",
       "    <tr>\n",
       "      <th>82</th>\n",
       "      <td>4/13/2023 3:58:20</td>\n",
       "      <td>NaN</td>\n",
       "      <td>21210026</td>\n",
       "      <td>Sem I 2022- 2023</td>\n",
       "      <td>Development Economics</td>\n",
       "      <td>NaN</td>\n",
       "      <td>NaN</td>\n",
       "      <td>NaN</td>\n",
       "      <td>Development Economics</td>\n",
       "      <td>5</td>\n",
       "      <td>5</td>\n",
       "      <td>4</td>\n",
       "      <td>5</td>\n",
       "      <td>NaN</td>\n",
       "    </tr>\n",
       "    <tr>\n",
       "      <th>83</th>\n",
       "      <td>4/13/2023 13:27:22</td>\n",
       "      <td>NaN</td>\n",
       "      <td>17110031</td>\n",
       "      <td>Sem II 2020-2021</td>\n",
       "      <td>Principles of Business Management</td>\n",
       "      <td>NaN</td>\n",
       "      <td>NaN</td>\n",
       "      <td>Principles of Business Management</td>\n",
       "      <td>NaN</td>\n",
       "      <td>5</td>\n",
       "      <td>4</td>\n",
       "      <td>4</td>\n",
       "      <td>5</td>\n",
       "      <td>The course content was good even being online ...</td>\n",
       "    </tr>\n",
       "    <tr>\n",
       "      <th>84</th>\n",
       "      <td>4/12/2023 12:10:07</td>\n",
       "      <td>NaN</td>\n",
       "      <td>21510018</td>\n",
       "      <td>Sem II 2021- 2022</td>\n",
       "      <td>Perspectives In History</td>\n",
       "      <td>Perspectives In History</td>\n",
       "      <td>NaN</td>\n",
       "      <td>NaN</td>\n",
       "      <td>NaN</td>\n",
       "      <td>5</td>\n",
       "      <td>4</td>\n",
       "      <td>5</td>\n",
       "      <td>3</td>\n",
       "      <td>I was very interested in the course, if you ar...</td>\n",
       "    </tr>\n",
       "    <tr>\n",
       "      <th>85</th>\n",
       "      <td>4/12/2023 11:42:26</td>\n",
       "      <td>NaN</td>\n",
       "      <td>20310026</td>\n",
       "      <td>Sem II 2020-2021</td>\n",
       "      <td>Structures and Hydrology in Ancient India</td>\n",
       "      <td>NaN</td>\n",
       "      <td>NaN</td>\n",
       "      <td>Structures and Hydrology in Ancient India</td>\n",
       "      <td>NaN</td>\n",
       "      <td>5</td>\n",
       "      <td>5</td>\n",
       "      <td>5</td>\n",
       "      <td>4</td>\n",
       "      <td>NaN</td>\n",
       "    </tr>\n",
       "    <tr>\n",
       "      <th>86</th>\n",
       "      <td>4/12/2023 11:57:24</td>\n",
       "      <td>NaN</td>\n",
       "      <td>21250021</td>\n",
       "      <td>Sem I 2021-2022</td>\n",
       "      <td>Sanskrit Literature</td>\n",
       "      <td>NaN</td>\n",
       "      <td>Sanskrit Literature</td>\n",
       "      <td>NaN</td>\n",
       "      <td>NaN</td>\n",
       "      <td>5</td>\n",
       "      <td>5</td>\n",
       "      <td>5</td>\n",
       "      <td>5</td>\n",
       "      <td>NaN</td>\n",
       "    </tr>\n",
       "  </tbody>\n",
       "</table>\n",
       "<p>87 rows × 14 columns</p>\n",
       "</div>"
      ],
      "text/plain": [
       "             Timestamp Email Address   Roll No           Semester  \\\n",
       "0   4/12/2023 12:23:53           NaN  18000011   Sem II 2020-2021   \n",
       "1   4/12/2023 11:37:17           NaN  21250015  Sem II 2021- 2022   \n",
       "2   4/12/2023 11:37:56           NaN  19110081  Sem II 2021- 2022   \n",
       "3   4/12/2023 11:33:55           NaN  21310014  Sem II 2021- 2022   \n",
       "4   4/12/2023 11:40:37           NaN  19110081    Sem I 2021-2022   \n",
       "..                 ...           ...       ...                ...   \n",
       "82   4/13/2023 3:58:20           NaN  21210026   Sem I 2022- 2023   \n",
       "83  4/13/2023 13:27:22           NaN  17110031   Sem II 2020-2021   \n",
       "84  4/12/2023 12:10:07           NaN  21510018  Sem II 2021- 2022   \n",
       "85  4/12/2023 11:42:26           NaN  20310026   Sem II 2020-2021   \n",
       "86  4/12/2023 11:57:24           NaN  21250021    Sem I 2021-2022   \n",
       "\n",
       "                                           Unnamed: 4  \\\n",
       "0                              Urdu Script and Poetry   \n",
       "1                     The Politics Of The Environment   \n",
       "2                               Harappan Civilization   \n",
       "3                        Creative Writing in Practice   \n",
       "4   Special topics in Management: Marketing Analytics   \n",
       "..                                                ...   \n",
       "82                              Development Economics   \n",
       "83                  Principles of Business Management   \n",
       "84                            Perspectives In History   \n",
       "85          Structures and Hydrology in Ancient India   \n",
       "86                                Sanskrit Literature   \n",
       "\n",
       "                      Select Course  \\\n",
       "0                               NaN   \n",
       "1   The Politics Of The Environment   \n",
       "2             Harappan Civilization   \n",
       "3      Creative Writing in Practice   \n",
       "4                               NaN   \n",
       "..                              ...   \n",
       "82                              NaN   \n",
       "83                              NaN   \n",
       "84          Perspectives In History   \n",
       "85                              NaN   \n",
       "86                              NaN   \n",
       "\n",
       "                                      Select Course.1  \\\n",
       "0                                                 NaN   \n",
       "1                                                 NaN   \n",
       "2                                                 NaN   \n",
       "3                                                 NaN   \n",
       "4   Special topics in Management: Marketing Analytics   \n",
       "..                                                ...   \n",
       "82                                                NaN   \n",
       "83                                                NaN   \n",
       "84                                                NaN   \n",
       "85                                                NaN   \n",
       "86                                Sanskrit Literature   \n",
       "\n",
       "                              Select Course.2        Select Course.3  \\\n",
       "0                      Urdu Script and Poetry                    NaN   \n",
       "1                                         NaN                    NaN   \n",
       "2                                         NaN                    NaN   \n",
       "3                                         NaN                    NaN   \n",
       "4                                         NaN                    NaN   \n",
       "..                                        ...                    ...   \n",
       "82                                        NaN  Development Economics   \n",
       "83          Principles of Business Management                    NaN   \n",
       "84                                        NaN                    NaN   \n",
       "85  Structures and Hydrology in Ancient India                    NaN   \n",
       "86                                        NaN                    NaN   \n",
       "\n",
       "    How Interesting was the course content?  Rate the Instructor   \\\n",
       "0                                         0                     0   \n",
       "1                                         3                     4   \n",
       "2                                         4                     5   \n",
       "3                                         5                     5   \n",
       "4                                         5                     5   \n",
       "..                                      ...                   ...   \n",
       "82                                        5                     5   \n",
       "83                                        5                     4   \n",
       "84                                        5                     4   \n",
       "85                                        5                     5   \n",
       "86                                        5                     5   \n",
       "\n",
       "    Rate the course difficulty  Did you get marks as per your expectation?  \\\n",
       "0                            0                                           1   \n",
       "1                            0                                           2   \n",
       "2                            0                                           4   \n",
       "3                            0                                           4   \n",
       "4                            0                                           5   \n",
       "..                         ...                                         ...   \n",
       "82                           4                                           5   \n",
       "83                           4                                           5   \n",
       "84                           5                                           3   \n",
       "85                           5                                           4   \n",
       "86                           5                                           5   \n",
       "\n",
       "                         Any Feedback or Suggestions?  \n",
       "0                                                Ugh!  \n",
       "1                                                 NaN  \n",
       "2                                                 NaN  \n",
       "3                                                 NaN  \n",
       "4                                                 NaN  \n",
       "..                                                ...  \n",
       "82                                                NaN  \n",
       "83  The course content was good even being online ...  \n",
       "84  I was very interested in the course, if you ar...  \n",
       "85                                                NaN  \n",
       "86                                                NaN  \n",
       "\n",
       "[87 rows x 14 columns]"
      ]
     },
     "execution_count": 42,
     "metadata": {},
     "output_type": "execute_result"
    }
   ],
   "source": [
    "df"
   ]
  },
  {
   "cell_type": "code",
   "execution_count": 43,
   "id": "1c1050a0",
   "metadata": {},
   "outputs": [],
   "source": [
    "def uni(s):\n",
    "    if type(s['s1']) == float:\n",
    "        if type(s['s2']) == float:\n",
    "            if type(s['s3']) == float:\n",
    "                return s['s4']\n",
    "            return s['s3']\n",
    "        return s['s2']\n",
    "    return s['s1']"
   ]
  },
  {
   "cell_type": "code",
   "execution_count": 44,
   "id": "70dfb249",
   "metadata": {},
   "outputs": [
    {
     "name": "stdout",
     "output_type": "stream",
     "text": [
      "87\n"
     ]
    },
    {
     "data": {
      "text/plain": [
       "87"
      ]
     },
     "execution_count": 44,
     "metadata": {},
     "output_type": "execute_result"
    }
   ],
   "source": [
    "df1 = pd.DataFrame({'id': pd.Series(df.index), 's1': df['Select Course'], 's2': df['Select Course.1'], 's3': df['Select Course.2'], 's4': df['Select Course.3'], 'rating': df['Rate the Instructor ']})\n",
    "df1['s'] = df1.apply(uni, axis=1)\n",
    "del df1['s1']\n",
    "del df1['s2']\n",
    "del df1['s3']\n",
    "del df1['s4']\n",
    "print(len(df1))\n",
    "df1.drop_duplicates(inplace=True)\n",
    "len(df1)"
   ]
  },
  {
   "cell_type": "code",
   "execution_count": 45,
   "id": "19298159",
   "metadata": {},
   "outputs": [
    {
     "data": {
      "text/plain": [
       "<matplotlib.colorbar.Colorbar at 0x2219f197fa0>"
      ]
     },
     "execution_count": 45,
     "metadata": {},
     "output_type": "execute_result"
    },
    {
     "data": {
      "image/png": "[encoded data removed]",
      "text/plain": [
       "<Figure size 2000x1000 with 2 Axes>"
      ]
     },
     "metadata": {},
     "output_type": "display_data"
    }
   ],
   "source": [
    "A = df1.pivot(index='id', columns='s', values='rating')\n",
    "A = A-2.5\n",
    "A = A.replace(np.nan, 0)\n",
    "plt.figure(figsize=(20, 10))\n",
    "plt.imshow(A)\n",
    "plt.title(\"The mean centred ratings\")\n",
    "plt.colorbar()"
   ]
  },
  {
   "cell_type": "code",
   "execution_count": 46,
   "id": "db4ad02f",
   "metadata": {},
   "outputs": [
    {
     "data": {
      "text/plain": [
       "0"
      ]
     },
     "execution_count": 46,
     "metadata": {},
     "output_type": "execute_result"
    }
   ],
   "source": [
    "u1 = A.iloc[0]\n",
    "u2 = A.iloc[1]\n",
    "dot = np.dot(u1, u2)\n",
    "norm_u1 = np.linalg.norm(u1)\n",
    "norm_u2 = np.linalg.norm(u2)\n",
    "cos_sim = dot / (norm_u1 * norm_u2) if dot != 0 else 0\n",
    "cos_sim"
   ]
  },
  {
   "cell_type": "code",
   "execution_count": 47,
   "id": "66690885",
   "metadata": {},
   "outputs": [],
   "source": [
    "from sklearn.metrics.pairwise import cosine_similarity\n",
    "sim_matrix = cosine_similarity(A)\n",
    "sim_matrix = pd.DataFrame(sim_matrix)"
   ]
  },
  {
   "cell_type": "code",
   "execution_count": 48,
   "id": "bec32834",
   "metadata": {},
   "outputs": [
    {
     "data": {
      "text/plain": [
       "<matplotlib.colorbar.Colorbar at 0x2219f26d640>"
      ]
     },
     "execution_count": 48,
     "metadata": {},
     "output_type": "execute_result"
    },
    {
     "data": {
      "image/png": "[encoded data removed]",
      "text/plain": [
       "<Figure size 1000x1000 with 2 Axes>"
      ]
     },
     "metadata": {},
     "output_type": "display_data"
    }
   ],
   "source": [
    "plt.figure(figsize=(10, 10))\n",
    "plt.imshow(sim_matrix)\n",
    "plt.colorbar()"
   ]
  },
  {
   "cell_type": "code",
   "execution_count": 49,
   "id": "e1e70dea",
   "metadata": {},
   "outputs": [],
   "source": [
    "def k_nearest_neighbors(A, u, k):\n",
    "    \"\"\"Find the k nearest neighbors for user u\"\"\"\n",
    "    # Find the index of the user in the matrix\n",
    "#     u_index = A.get_loc(u)\n",
    "#     print(u_index)\n",
    "    \n",
    "    # Compute the similarity between the user and all other users\n",
    "    sim_matrix = pd.DataFrame(cosine_similarity(A))\n",
    "\n",
    "    # Find the k most similar users\n",
    "    k_nearest = np.argsort(sim_matrix[u])[::-1][1:k+1]\n",
    "    \n",
    "    # Return the user ids\n",
    "    return A.index[k_nearest]"
   ]
  },
  {
   "cell_type": "code",
   "execution_count": 50,
   "id": "c1f85131",
   "metadata": {},
   "outputs": [],
   "source": [
    "def show_neighbors(A, u, k):\n",
    "    l = list(k_nearest_neighbors(A, u, k))\n",
    "    return A.loc[[pd.DataFrame(A.iloc[u]).columns[0]] + l]"
   ]
  },
  {
   "cell_type": "code",
   "execution_count": 51,
   "id": "0576fa63",
   "metadata": {},
   "outputs": [
    {
     "data": {
      "text/plain": [
       "Text(0.5, 1.0, '3 nearest neighbours of student 0')"
      ]
     },
     "execution_count": 51,
     "metadata": {},
     "output_type": "execute_result"
    },
    {
     "data": {
      "image/png": "[encoded data removed]",
      "text/plain": [
       "<Figure size 1500x2000 with 1 Axes>"
      ]
     },
     "metadata": {},
     "output_type": "display_data"
    }
   ],
   "source": [
    "plt.figure(figsize=(15, 20))\n",
    "plt.imshow(show_neighbors(A, 0, 3))\n",
    "plt.title(\"3 nearest neighbours of student 0\")"
   ]
  },
  {
   "cell_type": "code",
   "execution_count": 52,
   "id": "ae0f16c1",
   "metadata": {},
   "outputs": [
    {
     "data": {
      "text/plain": [
       "Text(0.5, 1.0, '3 nearest neighbours of student 2')"
      ]
     },
     "execution_count": 52,
     "metadata": {},
     "output_type": "execute_result"
    },
    {
     "data": {
      "image/png": "[encoded data removed]",
      "text/plain": [
       "<Figure size 1500x2000 with 1 Axes>"
      ]
     },
     "metadata": {},
     "output_type": "display_data"
    }
   ],
   "source": [
    "plt.figure(figsize=(15, 20))\n",
    "plt.imshow(show_neighbors(A, 2, 3))\n",
    "plt.title(\"3 nearest neighbours of student 2\")"
   ]
  },
  {
   "cell_type": "code",
   "execution_count": 53,
   "id": "8e81a09e",
   "metadata": {},
   "outputs": [
    {
     "data": {
      "text/plain": [
       "Index(['Ancient Indian Architecture', 'Ancient Indian Technology',\n",
       "       'Anthropology, Citizenship and Human Rights',\n",
       "       'Business Skills for Entrepreneurs', 'Creative Writing in Practice',\n",
       "       'Development Economics', 'Engineering Entrepreneurship',\n",
       "       'Exploring Indias cultural, scientific and technological heritage',\n",
       "       'Foundational Sanskrit', 'Harappan Civilization',\n",
       "       'History of India, 1930-1964', 'Human Evolution',\n",
       "       'Humanism, Anti-humanism, and Posthumanism',\n",
       "       'India Through the Writer's Eye', 'Indian Systems of Ethics',\n",
       "       'Introduction to Archaeology', 'Introduction to Linguistics',\n",
       "       'Linguistic Anthropology', 'Literary Experiment In European Modernism',\n",
       "       'Literature, Theory and Social Contexts', 'Perspectives In History',\n",
       "       'Perspectives on Indian Civilization',\n",
       "       'Principles of Business Management', 'Sanskrit Literature',\n",
       "       'Special Topics in HSS: Abnormal Psychology',\n",
       "       'Special Topics in HSS: Anthropology in the 21st Century',\n",
       "       'Special Topics in HSS: Challenges in the Digital Society',\n",
       "       'Special Topics in HSS: Competitiveness and Ethical Leadership',\n",
       "       'Special Topics in HSS: Public Policy & Impact Evaluation',\n",
       "       'Special Topics in HSS: Science Communication: Theory and Practice',\n",
       "       'Special Topics in HSS: Strategic Leadership',\n",
       "       'Special Topics in Management: Digital lnnovation and transformation for Enterprises',\n",
       "       'Special Topics in Management: Entrepreneurship and New Ventures',\n",
       "       'Special Topics in Management: Social Media Marketing',\n",
       "       'Special Topics: Foundations of User Experience',\n",
       "       'Special topics in Management: Marketing Analytics',\n",
       "       'Structures and Hydrology in Ancient India',\n",
       "       'The Politics Of The Environment', 'Theories of social epidemiology',\n",
       "       'Urdu Poetry Interpretation', 'Urdu Script and Poetry',\n",
       "       'When You Cannot Experiment: Social Science Methods'],\n",
       "      dtype='object', name='s')"
      ]
     },
     "execution_count": 53,
     "metadata": {},
     "output_type": "execute_result"
    }
   ],
   "source": [
    "A.columns"
   ]
  },
  {
   "cell_type": "code",
   "execution_count": 54,
   "id": "c764957c",
   "metadata": {},
   "outputs": [],
   "source": [
    "def predict_rating(A, u, c, k=3):\n",
    "    df = show_neighbors(A, u, k)\n",
    "    ratings = df[c]\n",
    "    r = ratings[ratings != 0]\n",
    "    l = len(r)\n",
    "    s = r.sum()\n",
    "    s = s-r.iloc[0]\n",
    "    mean = 0\n",
    "    if len(r) == 0:\n",
    "        mean = 0\n",
    "    else:\n",
    "        mean = s/(len(r)-1)\n",
    "    return mean+2.5"
   ]
  },
  {
   "cell_type": "code",
   "execution_count": 55,
   "id": "80c11925",
   "metadata": {},
   "outputs": [],
   "source": [
    "x = predict_rating(A, 0, \"Urdu Script and Poetry\")"
   ]
  },
  {
   "cell_type": "code",
   "execution_count": 56,
   "id": "64b02fd4",
   "metadata": {},
   "outputs": [
    {
     "name": "stdout",
     "output_type": "stream",
     "text": [
      "0.5\n"
     ]
    }
   ],
   "source": [
    "print(x)"
   ]
  },
  {
   "cell_type": "code",
   "execution_count": null,
   "id": "d2a08453",
   "metadata": {},
   "outputs": [],
   "source": []
  },
  {
   "cell_type": "code",
   "execution_count": null,
   "id": "2faefe4b",
   "metadata": {},
   "outputs": [],
   "source": []
  }
 ],
 "metadata": {
  "kernelspec": {
   "display_name": "Python 3 (ipykernel)",
   "language": "python",
   "name": "python3"
  },
  "language_info": {
   "codemirror_mode": {
    "name": "ipython",
    "version": 3
   },
   "file_extension": ".py",
   "mimetype": "text/x-python",
   "name": "python",
   "nbconvert_exporter": "python",
   "pygments_lexer": "ipython3",
   "version": "3.9.9"
  }
 },
 "nbformat": 4,
 "nbformat_minor": 5
}
